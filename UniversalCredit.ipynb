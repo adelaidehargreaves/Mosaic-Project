{
 "cells": [
  {
   "cell_type": "markdown",
   "metadata": {},
   "source": [
    "# Universal Credit: Will it leave you better off? "
   ]
  },
  {
   "cell_type": "markdown",
   "metadata": {},
   "source": [
    "Universal Credit was designed to simplify the welfare system by combining six welfare components into one payment along with incentivising individuals on welfare to enter into work thus lowering the welfare bill for the government via a more efficient system and a higher number of people on welfare in the workforce, and reducing wage and employment scarring of claimants.\n",
    "\n",
    "However it has come under much criticism for reasons such as the long wait to receive the first payment, the need for an address to receive payments, and the uncertainty in level of welfare recipients will receive when they are forced to switch onto the new system from the old benefits system.\n",
    "\n",
    "What I aim to do with this project is to find how a claimants benefits will be affected when switching from the old system to Universal Credit, thus reducing the uncertainty a claimant will have. To simplify this project, as there are many different welfare sections, I will be looking at job seekers as despite not being from the UK it is the most relevant demographic to me at the moment, and determine, depending on a claimants current situation, the changes they should expect when switching systems. \n",
    "\n",
    "This will be done via the following steps:\n",
    "1. Finding maximum entitlement of claimant seeking Universal Credit\n",
    "2. Finding maximum entitlement of a claimant seeking Job Seekers Allowance\n",
    "3. Find the general case\n",
    "4. Include capital limits and current work situations\n",
    "5. Create a visualization of how these entitlements change as a claimant enters into work\n",
    "\n",
    "I will then conclude an mention further extensions of this project, and cite my work. \n",
    "\n",
    "(I do apologise the quality of this project has been reduced due to limited availability of information online regarding to welfare payments, a caveat that universal credit tried to solve but has fallen short.)\n"
   ]
  },
  {
   "cell_type": "code",
   "execution_count": 1159,
   "metadata": {
    "slideshow": {
     "slide_type": "-"
    }
   },
   "outputs": [
    {
     "data": {
      "text/html": [
       "<div>\n",
       "<style scoped>\n",
       "    .dataframe tbody tr th:only-of-type {\n",
       "        vertical-align: middle;\n",
       "    }\n",
       "\n",
       "    .dataframe tbody tr th {\n",
       "        vertical-align: top;\n",
       "    }\n",
       "\n",
       "    .dataframe thead th {\n",
       "        text-align: right;\n",
       "    }\n",
       "</style>\n",
       "<table border=\"1\" class=\"dataframe\">\n",
       "  <thead>\n",
       "    <tr style=\"text-align: right;\">\n",
       "      <th></th>\n",
       "      <th>Element</th>\n",
       "      <th>Unnamed: 1</th>\n",
       "      <th>2018-19 rates per month</th>\n",
       "    </tr>\n",
       "  </thead>\n",
       "  <tbody>\n",
       "    <tr>\n",
       "      <th>0</th>\n",
       "      <td>Standard Allowance</td>\n",
       "      <td>Single claimant under 25</td>\n",
       "      <td>£251.77</td>\n",
       "    </tr>\n",
       "    <tr>\n",
       "      <th>1</th>\n",
       "      <td>NaN</td>\n",
       "      <td>Single claimant 25 and over</td>\n",
       "      <td>£317.82</td>\n",
       "    </tr>\n",
       "    <tr>\n",
       "      <th>2</th>\n",
       "      <td>NaN</td>\n",
       "      <td>Joint claimants, both under 25</td>\n",
       "      <td>£395.20</td>\n",
       "    </tr>\n",
       "    <tr>\n",
       "      <th>3</th>\n",
       "      <td>NaN</td>\n",
       "      <td>Joint claimants, either/both 25 and over</td>\n",
       "      <td>£498.89</td>\n",
       "    </tr>\n",
       "    <tr>\n",
       "      <th>4</th>\n",
       "      <td>Child Element</td>\n",
       "      <td>1st child or qualifying young person (if born ...</td>\n",
       "      <td>£277.08</td>\n",
       "    </tr>\n",
       "  </tbody>\n",
       "</table>\n",
       "</div>"
      ],
      "text/plain": [
       "              Element                                         Unnamed: 1  \\\n",
       "0  Standard Allowance                           Single claimant under 25   \n",
       "1                 NaN                        Single claimant 25 and over   \n",
       "2                 NaN                     Joint claimants, both under 25   \n",
       "3                 NaN           Joint claimants, either/both 25 and over   \n",
       "4       Child Element  1st child or qualifying young person (if born ...   \n",
       "\n",
       "  2018-19 rates per month  \n",
       "0                 £251.77  \n",
       "1                 £317.82  \n",
       "2                 £395.20  \n",
       "3                 £498.89  \n",
       "4                 £277.08  "
      ]
     },
     "execution_count": 1159,
     "metadata": {},
     "output_type": "execute_result"
    }
   ],
   "source": [
    "import pandas as pd\n",
    "import numpy as np\n",
    "\n",
    "uc_df=pd.read_csv(\"Universal Credit - Sheet1.csv\")\n",
    "uc_df.head(5)"
   ]
  },
  {
   "cell_type": "markdown",
   "metadata": {},
   "source": [
    "Throughout this I will make some assumptions to simplify this data. I will currently ignore any capital, assume the individual is working 0 hours and drop sections that have combined values in them. This data is from entitled.to."
   ]
  },
  {
   "cell_type": "code",
   "execution_count": 1160,
   "metadata": {},
   "outputs": [
    {
     "data": {
      "text/html": [
       "<div>\n",
       "<style scoped>\n",
       "    .dataframe tbody tr th:only-of-type {\n",
       "        vertical-align: middle;\n",
       "    }\n",
       "\n",
       "    .dataframe tbody tr th {\n",
       "        vertical-align: top;\n",
       "    }\n",
       "\n",
       "    .dataframe thead th {\n",
       "        text-align: right;\n",
       "    }\n",
       "</style>\n",
       "<table border=\"1\" class=\"dataframe\">\n",
       "  <thead>\n",
       "    <tr style=\"text-align: right;\">\n",
       "      <th></th>\n",
       "      <th>Number of Types</th>\n",
       "    </tr>\n",
       "    <tr>\n",
       "      <th>Element</th>\n",
       "      <th></th>\n",
       "    </tr>\n",
       "  </thead>\n",
       "  <tbody>\n",
       "    <tr>\n",
       "      <th>Additional amount for disabled child or qualifying young person</th>\n",
       "      <td>2</td>\n",
       "    </tr>\n",
       "    <tr>\n",
       "      <th>Capital limits</th>\n",
       "      <td>3</td>\n",
       "    </tr>\n",
       "    <tr>\n",
       "      <th>Carer element</th>\n",
       "      <td>1</td>\n",
       "    </tr>\n",
       "    <tr>\n",
       "      <th>Child Element</th>\n",
       "      <td>2</td>\n",
       "    </tr>\n",
       "    <tr>\n",
       "      <th>Childcare costs element</th>\n",
       "      <td>2</td>\n",
       "    </tr>\n",
       "    <tr>\n",
       "      <th>Higher work allowance (where the UC award does not contain any housing costs element)</th>\n",
       "      <td>6</td>\n",
       "    </tr>\n",
       "    <tr>\n",
       "      <th>Limited capability for work</th>\n",
       "      <td>1</td>\n",
       "    </tr>\n",
       "    <tr>\n",
       "      <th>Limited capability for work &amp; work related activity</th>\n",
       "      <td>1</td>\n",
       "    </tr>\n",
       "    <tr>\n",
       "      <th>Lower work allowance (where the UC award contains housing costs element)</th>\n",
       "      <td>6</td>\n",
       "    </tr>\n",
       "    <tr>\n",
       "      <th>Standard Allowance</th>\n",
       "      <td>4</td>\n",
       "    </tr>\n",
       "  </tbody>\n",
       "</table>\n",
       "</div>"
      ],
      "text/plain": [
       "                                                    Number of Types\n",
       "Element                                                            \n",
       "Additional amount for disabled child or qualify...                2\n",
       "Capital limits                                                    3\n",
       "Carer element                                                     1\n",
       "Child Element                                                     2\n",
       "Childcare costs element                                           2\n",
       "Higher work allowance (where the UC award does ...                6\n",
       "Limited capability for work                                       1\n",
       "Limited capability for work & work related acti...                1\n",
       "Lower work allowance (where the UC award contai...                6\n",
       "Standard Allowance                                                4"
      ]
     },
     "execution_count": 1160,
     "metadata": {},
     "output_type": "execute_result"
    }
   ],
   "source": [
    "uc_df['Element'].fillna(method='ffill',inplace=True)\n",
    "uc_df_grouped=uc_df.groupby(['Element']).count()\n",
    "uc_df_grouped.drop('Unnamed: 1',1,inplace=True)\n",
    "uc_df_grouped.columns=['Number of Types']\n",
    "uc_df_grouped.head(10)"
   ]
  },
  {
   "cell_type": "code",
   "execution_count": 1161,
   "metadata": {},
   "outputs": [
    {
     "data": {
      "text/plain": [
       "(10, 1)"
      ]
     },
     "execution_count": 1161,
     "metadata": {},
     "output_type": "execute_result"
    }
   ],
   "source": [
    "uc_df_grouped.shape"
   ]
  },
  {
   "cell_type": "markdown",
   "metadata": {},
   "source": [
    "Thus we see that there are 10 different categories. For now I will drop Capital limits and Higher and Lower Work Allowances as this will be introduced later. "
   ]
  },
  {
   "cell_type": "code",
   "execution_count": 1162,
   "metadata": {},
   "outputs": [],
   "source": [
    "uc_df1=uc_df[uc_df['Element']!='Capital limits']\n",
    "uc_df2=uc_df1[uc_df1['Element']!='Lower work allowance (where the UC award contains housing costs element)']\n",
    "uc_df_simple=uc_df2[uc_df2['Element']!='Higher work allowance (where the UC award does not contain any housing costs element)']\n",
    "#create new grouped matrix\n",
    "uc_df_simple_group=uc_df_simple.groupby(['Element']).count()\n",
    "uc_df_simple_group.drop(['Unnamed: 1'],1,inplace=True)"
   ]
  },
  {
   "cell_type": "markdown",
   "metadata": {},
   "source": [
    "One of the major assumptions I am making for this project, is that the amount of universal credit is equal to the standard allowance plus extra entitlements that are listed below, ignoring the upper limits on claims and any interaction the claims may have with each other. "
   ]
  },
  {
   "cell_type": "code",
   "execution_count": 1163,
   "metadata": {},
   "outputs": [],
   "source": [
    "uc_df_simple_sorted=uc_df_simple.sort_values('Element').reset_index(drop=True)"
   ]
  },
  {
   "cell_type": "markdown",
   "metadata": {},
   "source": [
    "I will set up the entitlement values as a vector and create unit vectors corresponding to a characteristic trait in order to allow us to choose which characteristics define the claimant and calculate their unique entitlement value."
   ]
  },
  {
   "cell_type": "code",
   "execution_count": 1164,
   "metadata": {},
   "outputs": [],
   "source": [
    "uc_df_simple_sortedX=uc_df_simple_sorted[['Element','Unnamed: 1']]\n",
    "uc_df_simple_sortedY=(uc_df_simple_sorted[['2018-19 rates per month']])\n",
    "uc_amounts=np.array(uc_df_simple_sortedY['2018-19 rates per month'].str.replace(\"£\",\"\").replace(\"''\",\"\").replace(\"1,108.04\",\"1108.04\"))\n",
    "uc_amounts_t=uc_amounts.astype(float).T"
   ]
  },
  {
   "cell_type": "code",
   "execution_count": 1165,
   "metadata": {},
   "outputs": [
    {
     "data": {
      "text/plain": [
       "277.08"
      ]
     },
     "execution_count": 1165,
     "metadata": {},
     "output_type": "execute_result"
    }
   ],
   "source": [
    "uc_vector=np.identity(13).astype(float)\n",
    "np.dot(uc_amounts_t,uc_vector[3])"
   ]
  },
  {
   "cell_type": "markdown",
   "metadata": {},
   "source": [
    "Now we can start combining different characteristics of a person using the uc_df_sorted_simple reference, where the index represents the Vectors[] number and we multiply by the uc_amounts_t. \n",
    "\n",
    "For example, take a person over 25 who is single with 2 children who has a disability that entitles them to a lower bracket of disability allowance. We take cases 0,3,4,10 into account as we can see from the table below."
   ]
  },
  {
   "cell_type": "code",
   "execution_count": 1166,
   "metadata": {},
   "outputs": [
    {
     "data": {
      "text/html": [
       "<div>\n",
       "<style scoped>\n",
       "    .dataframe tbody tr th:only-of-type {\n",
       "        vertical-align: middle;\n",
       "    }\n",
       "\n",
       "    .dataframe tbody tr th {\n",
       "        vertical-align: top;\n",
       "    }\n",
       "\n",
       "    .dataframe thead th {\n",
       "        text-align: right;\n",
       "    }\n",
       "</style>\n",
       "<table border=\"1\" class=\"dataframe\">\n",
       "  <thead>\n",
       "    <tr style=\"text-align: right;\">\n",
       "      <th></th>\n",
       "      <th>Element</th>\n",
       "      <th>Unnamed: 1</th>\n",
       "    </tr>\n",
       "  </thead>\n",
       "  <tbody>\n",
       "    <tr>\n",
       "      <th>0</th>\n",
       "      <td>Additional amount for disabled child or qualif...</td>\n",
       "      <td>Lower rate</td>\n",
       "    </tr>\n",
       "    <tr>\n",
       "      <th>1</th>\n",
       "      <td>Additional amount for disabled child or qualif...</td>\n",
       "      <td>Higher rate</td>\n",
       "    </tr>\n",
       "    <tr>\n",
       "      <th>2</th>\n",
       "      <td>Carer element</td>\n",
       "      <td>NaN</td>\n",
       "    </tr>\n",
       "    <tr>\n",
       "      <th>3</th>\n",
       "      <td>Child Element</td>\n",
       "      <td>1st child or qualifying young person (if born ...</td>\n",
       "    </tr>\n",
       "    <tr>\n",
       "      <th>4</th>\n",
       "      <td>Child Element</td>\n",
       "      <td>2nd &amp; subsequent child or qualifying young per...</td>\n",
       "    </tr>\n",
       "    <tr>\n",
       "      <th>5</th>\n",
       "      <td>Childcare costs element</td>\n",
       "      <td>Maximum amount of childcare costs for one chil...</td>\n",
       "    </tr>\n",
       "    <tr>\n",
       "      <th>6</th>\n",
       "      <td>Childcare costs element</td>\n",
       "      <td>Maximum amount for 2 or more children (UC pays...</td>\n",
       "    </tr>\n",
       "    <tr>\n",
       "      <th>7</th>\n",
       "      <td>Limited capability for work</td>\n",
       "      <td>(Only for claims started before 3 April 2017)</td>\n",
       "    </tr>\n",
       "    <tr>\n",
       "      <th>8</th>\n",
       "      <td>Limited capability for work &amp; work related act...</td>\n",
       "      <td>NaN</td>\n",
       "    </tr>\n",
       "    <tr>\n",
       "      <th>9</th>\n",
       "      <td>Standard Allowance</td>\n",
       "      <td>Single claimant under 25</td>\n",
       "    </tr>\n",
       "    <tr>\n",
       "      <th>10</th>\n",
       "      <td>Standard Allowance</td>\n",
       "      <td>Single claimant 25 and over</td>\n",
       "    </tr>\n",
       "    <tr>\n",
       "      <th>11</th>\n",
       "      <td>Standard Allowance</td>\n",
       "      <td>Joint claimants, both under 25</td>\n",
       "    </tr>\n",
       "    <tr>\n",
       "      <th>12</th>\n",
       "      <td>Standard Allowance</td>\n",
       "      <td>Joint claimants, either/both 25 and over</td>\n",
       "    </tr>\n",
       "  </tbody>\n",
       "</table>\n",
       "</div>"
      ],
      "text/plain": [
       "                                              Element  \\\n",
       "0   Additional amount for disabled child or qualif...   \n",
       "1   Additional amount for disabled child or qualif...   \n",
       "2                                       Carer element   \n",
       "3                                       Child Element   \n",
       "4                                       Child Element   \n",
       "5                             Childcare costs element   \n",
       "6                             Childcare costs element   \n",
       "7                         Limited capability for work   \n",
       "8   Limited capability for work & work related act...   \n",
       "9                                  Standard Allowance   \n",
       "10                                 Standard Allowance   \n",
       "11                                 Standard Allowance   \n",
       "12                                 Standard Allowance   \n",
       "\n",
       "                                           Unnamed: 1  \n",
       "0                                          Lower rate  \n",
       "1                                         Higher rate  \n",
       "2                                                 NaN  \n",
       "3   1st child or qualifying young person (if born ...  \n",
       "4   2nd & subsequent child or qualifying young per...  \n",
       "5   Maximum amount of childcare costs for one chil...  \n",
       "6   Maximum amount for 2 or more children (UC pays...  \n",
       "7       (Only for claims started before 3 April 2017)  \n",
       "8                                                 NaN  \n",
       "9                            Single claimant under 25  \n",
       "10                        Single claimant 25 and over  \n",
       "11                     Joint claimants, both under 25  \n",
       "12           Joint claimants, either/both 25 and over  "
      ]
     },
     "execution_count": 1166,
     "metadata": {},
     "output_type": "execute_result"
    }
   ],
   "source": [
    "uc_df_simple_sortedX"
   ]
  },
  {
   "cell_type": "code",
   "execution_count": 1167,
   "metadata": {},
   "outputs": [
    {
     "name": "stdout",
     "output_type": "stream",
     "text": [
      "This person is entitled to: £952.68 per month\n"
     ]
    }
   ],
   "source": [
    "UC=np.dot(uc_amounts_t,(uc_vector[0]+uc_vector[3]+uc_vector[4]+uc_vector[10]))\n",
    "print(\"This person is entitled to: £%.2f per month\" %UC)"
   ]
  },
  {
   "cell_type": "markdown",
   "metadata": {},
   "source": [
    "# Job Seekers Allowance"
   ]
  },
  {
   "cell_type": "markdown",
   "metadata": {},
   "source": [
    "The data that I am using here is from DWP 2015. "
   ]
  },
  {
   "cell_type": "code",
   "execution_count": 1168,
   "metadata": {},
   "outputs": [
    {
     "data": {
      "text/html": [
       "<div>\n",
       "<style scoped>\n",
       "    .dataframe tbody tr th:only-of-type {\n",
       "        vertical-align: middle;\n",
       "    }\n",
       "\n",
       "    .dataframe tbody tr th {\n",
       "        vertical-align: top;\n",
       "    }\n",
       "\n",
       "    .dataframe thead th {\n",
       "        text-align: right;\n",
       "    }\n",
       "</style>\n",
       "<table border=\"1\" class=\"dataframe\">\n",
       "  <thead>\n",
       "    <tr style=\"text-align: right;\">\n",
       "      <th></th>\n",
       "      <th>Contribution Based</th>\n",
       "      <th>Person aged under 25 £57.90</th>\n",
       "    </tr>\n",
       "  </thead>\n",
       "  <tbody>\n",
       "    <tr>\n",
       "      <th>0</th>\n",
       "      <td>NaN</td>\n",
       "      <td>Person aged under 25 £57.90</td>\n",
       "    </tr>\n",
       "    <tr>\n",
       "      <th>1</th>\n",
       "      <td>Income Based Personal Allowance Single</td>\n",
       "      <td>Aged 16 to 24 £57.90</td>\n",
       "    </tr>\n",
       "    <tr>\n",
       "      <th>2</th>\n",
       "      <td>NaN</td>\n",
       "      <td>Aged 25 or over £73.10</td>\n",
       "    </tr>\n",
       "    <tr>\n",
       "      <th>3</th>\n",
       "      <td>Couple</td>\n",
       "      <td>With both people aged 16 or 17 £57.90</td>\n",
       "    </tr>\n",
       "    <tr>\n",
       "      <th>4</th>\n",
       "      <td>NaN</td>\n",
       "      <td>With both people aged 16 or 17, payable in cer...</td>\n",
       "    </tr>\n",
       "  </tbody>\n",
       "</table>\n",
       "</div>"
      ],
      "text/plain": [
       "                       Contribution Based  \\\n",
       "0                                     NaN   \n",
       "1  Income Based Personal Allowance Single   \n",
       "2                                     NaN   \n",
       "3                                  Couple   \n",
       "4                                     NaN   \n",
       "\n",
       "                         Person aged under 25 £57.90  \n",
       "0                        Person aged under 25 £57.90  \n",
       "1                               Aged 16 to 24 £57.90  \n",
       "2                             Aged 25 or over £73.10  \n",
       "3              With both people aged 16 or 17 £57.90  \n",
       "4  With both people aged 16 or 17, payable in cer...  "
      ]
     },
     "execution_count": 1168,
     "metadata": {},
     "output_type": "execute_result"
    }
   ],
   "source": [
    "js_df=pd.read_csv(\"JobSeekers - Sheet1.csv\")\n",
    "js_df.head(5)"
   ]
  },
  {
   "cell_type": "code",
   "execution_count": 1169,
   "metadata": {},
   "outputs": [
    {
     "data": {
      "text/plain": [
       "(21, 2)"
      ]
     },
     "execution_count": 1169,
     "metadata": {},
     "output_type": "execute_result"
    }
   ],
   "source": [
    "js_df.columns\n",
    "js_df.shape"
   ]
  },
  {
   "cell_type": "code",
   "execution_count": 1170,
   "metadata": {},
   "outputs": [],
   "source": [
    "js_df2=js_df.append({'Contribution Based':'Contribution Based','Person aged under 25 £57.90':'Person aged under 25 £57.90' },ignore_index=True)\n",
    "js_df2['new']=range(1,len(js_df2)+1)\n",
    "js_df2.loc[21,'new']=0\n",
    "js_df3=js_df2\n",
    "js_df3.sort_values(['new'],inplace=True) \n",
    "js_df4=js_df3.reset_index()\n",
    "js_df4.drop('new',1,inplace=True)\n",
    "js_df4.drop('index',1,inplace=True)\n",
    "js_df4.columns=('Attribute','Characteristic')\n",
    "js_df4['Attribute'].fillna(method='ffill',inplace=True)"
   ]
  },
  {
   "cell_type": "code",
   "execution_count": 1171,
   "metadata": {},
   "outputs": [],
   "source": [
    "js_df4[['Char','Allowance']]=js_df4['Characteristic'].str.split('£',expand=True)\n",
    "js_df4.drop('Characteristic',1,inplace=True)"
   ]
  },
  {
   "cell_type": "code",
   "execution_count": 1172,
   "metadata": {},
   "outputs": [
    {
     "data": {
      "text/html": [
       "<div>\n",
       "<style scoped>\n",
       "    .dataframe tbody tr th:only-of-type {\n",
       "        vertical-align: middle;\n",
       "    }\n",
       "\n",
       "    .dataframe tbody tr th {\n",
       "        vertical-align: top;\n",
       "    }\n",
       "\n",
       "    .dataframe thead th {\n",
       "        text-align: right;\n",
       "    }\n",
       "</style>\n",
       "<table border=\"1\" class=\"dataframe\">\n",
       "  <thead>\n",
       "    <tr style=\"text-align: right;\">\n",
       "      <th></th>\n",
       "      <th>Attribute</th>\n",
       "      <th>Char</th>\n",
       "      <th>Allowance</th>\n",
       "    </tr>\n",
       "  </thead>\n",
       "  <tbody>\n",
       "    <tr>\n",
       "      <th>0</th>\n",
       "      <td>Contribution Based</td>\n",
       "      <td>Person aged under 25</td>\n",
       "      <td>57.90</td>\n",
       "    </tr>\n",
       "    <tr>\n",
       "      <th>1</th>\n",
       "      <td>Contribution Based</td>\n",
       "      <td>Person aged under 25</td>\n",
       "      <td>57.90</td>\n",
       "    </tr>\n",
       "    <tr>\n",
       "      <th>2</th>\n",
       "      <td>Income Based Personal Allowance Single</td>\n",
       "      <td>Aged 16 to 24</td>\n",
       "      <td>57.90</td>\n",
       "    </tr>\n",
       "    <tr>\n",
       "      <th>3</th>\n",
       "      <td>Income Based Personal Allowance Single</td>\n",
       "      <td>Aged 25 or over</td>\n",
       "      <td>73.10</td>\n",
       "    </tr>\n",
       "    <tr>\n",
       "      <th>4</th>\n",
       "      <td>Couple</td>\n",
       "      <td>With both people aged 16 or 17</td>\n",
       "      <td>57.90</td>\n",
       "    </tr>\n",
       "    <tr>\n",
       "      <th>5</th>\n",
       "      <td>Couple</td>\n",
       "      <td>With both people aged 16 or 17, payable in cer...</td>\n",
       "      <td>87.50</td>\n",
       "    </tr>\n",
       "    <tr>\n",
       "      <th>6</th>\n",
       "      <td>Couple</td>\n",
       "      <td>With one person aged 16 or 17, and one person ...</td>\n",
       "      <td>57.90</td>\n",
       "    </tr>\n",
       "    <tr>\n",
       "      <th>7</th>\n",
       "      <td>Couple</td>\n",
       "      <td>With one person aged 16 or 17, and one person ...</td>\n",
       "      <td>73.10</td>\n",
       "    </tr>\n",
       "    <tr>\n",
       "      <th>8</th>\n",
       "      <td>Couple</td>\n",
       "      <td>With both people aged 18 or over</td>\n",
       "      <td>114.85</td>\n",
       "    </tr>\n",
       "    <tr>\n",
       "      <th>9</th>\n",
       "      <td>Lone Parent</td>\n",
       "      <td>Aged under 18</td>\n",
       "      <td>57.90</td>\n",
       "    </tr>\n",
       "    <tr>\n",
       "      <th>10</th>\n",
       "      <td>Lone Parent</td>\n",
       "      <td>Aged 18 or over</td>\n",
       "      <td>73.10</td>\n",
       "    </tr>\n",
       "    <tr>\n",
       "      <th>11</th>\n",
       "      <td>Lone Parent</td>\n",
       "      <td>Dependent children</td>\n",
       "      <td>66.90</td>\n",
       "    </tr>\n",
       "    <tr>\n",
       "      <th>12</th>\n",
       "      <td>Premiums</td>\n",
       "      <td>Single</td>\n",
       "      <td>61.85</td>\n",
       "    </tr>\n",
       "    <tr>\n",
       "      <th>13</th>\n",
       "      <td>Premiums</td>\n",
       "      <td>Couple (where one person qualifies)</td>\n",
       "      <td>61.85</td>\n",
       "    </tr>\n",
       "    <tr>\n",
       "      <th>14</th>\n",
       "      <td>Premiums</td>\n",
       "      <td>Couple (where both people qualify)</td>\n",
       "      <td>123.70</td>\n",
       "    </tr>\n",
       "    <tr>\n",
       "      <th>15</th>\n",
       "      <td>Pensioner Premium</td>\n",
       "      <td>Single person</td>\n",
       "      <td>78.10</td>\n",
       "    </tr>\n",
       "    <tr>\n",
       "      <th>16</th>\n",
       "      <td>Pensioner Premium</td>\n",
       "      <td>Couple</td>\n",
       "      <td>116.00</td>\n",
       "    </tr>\n",
       "    <tr>\n",
       "      <th>17</th>\n",
       "      <td>Disability premium</td>\n",
       "      <td>Single person</td>\n",
       "      <td>32.25</td>\n",
       "    </tr>\n",
       "    <tr>\n",
       "      <th>18</th>\n",
       "      <td>Disability premium</td>\n",
       "      <td>Couple</td>\n",
       "      <td>45.95</td>\n",
       "    </tr>\n",
       "    <tr>\n",
       "      <th>19</th>\n",
       "      <td>Enhanced Disability premium</td>\n",
       "      <td>Single person</td>\n",
       "      <td>15.75</td>\n",
       "    </tr>\n",
       "    <tr>\n",
       "      <th>20</th>\n",
       "      <td>Enhanced Disability premium</td>\n",
       "      <td>Couple</td>\n",
       "      <td>22.60</td>\n",
       "    </tr>\n",
       "    <tr>\n",
       "      <th>21</th>\n",
       "      <td>Enhanced Disability premium</td>\n",
       "      <td>Child</td>\n",
       "      <td>24.43</td>\n",
       "    </tr>\n",
       "  </tbody>\n",
       "</table>\n",
       "</div>"
      ],
      "text/plain": [
       "                                 Attribute  \\\n",
       "0                       Contribution Based   \n",
       "1                       Contribution Based   \n",
       "2   Income Based Personal Allowance Single   \n",
       "3   Income Based Personal Allowance Single   \n",
       "4                                   Couple   \n",
       "5                                   Couple   \n",
       "6                                   Couple   \n",
       "7                                   Couple   \n",
       "8                                   Couple   \n",
       "9                              Lone Parent   \n",
       "10                             Lone Parent   \n",
       "11                             Lone Parent   \n",
       "12                                Premiums   \n",
       "13                                Premiums   \n",
       "14                                Premiums   \n",
       "15                       Pensioner Premium   \n",
       "16                       Pensioner Premium   \n",
       "17                      Disability premium   \n",
       "18                      Disability premium   \n",
       "19             Enhanced Disability premium   \n",
       "20             Enhanced Disability premium   \n",
       "21             Enhanced Disability premium   \n",
       "\n",
       "                                                 Char Allowance  \n",
       "0                               Person aged under 25      57.90  \n",
       "1                               Person aged under 25      57.90  \n",
       "2                                      Aged 16 to 24      57.90  \n",
       "3                                    Aged 25 or over      73.10  \n",
       "4                     With both people aged 16 or 17      57.90  \n",
       "5   With both people aged 16 or 17, payable in cer...     87.50  \n",
       "6   With one person aged 16 or 17, and one person ...     57.90  \n",
       "7   With one person aged 16 or 17, and one person ...     73.10  \n",
       "8                   With both people aged 18 or over     114.85  \n",
       "9                                      Aged under 18      57.90  \n",
       "10                                   Aged 18 or over      73.10  \n",
       "11                                Dependent children      66.90  \n",
       "12                                            Single      61.85  \n",
       "13               Couple (where one person qualifies)      61.85  \n",
       "14                Couple (where both people qualify)     123.70  \n",
       "15                                     Single person      78.10  \n",
       "16                                            Couple     116.00  \n",
       "17                                     Single person      32.25  \n",
       "18                                            Couple      45.95  \n",
       "19                                     Single person      15.75  \n",
       "20                                            Couple      22.60  \n",
       "21                                             Child      24.43  "
      ]
     },
     "execution_count": 1172,
     "metadata": {},
     "output_type": "execute_result"
    }
   ],
   "source": [
    "js_df4"
   ]
  },
  {
   "cell_type": "code",
   "execution_count": 1173,
   "metadata": {},
   "outputs": [],
   "source": [
    "js_dfY=js_df4['Allowance'].astype(float)*(52/12)\n",
    "js_vector=np.identity(22)"
   ]
  },
  {
   "cell_type": "markdown",
   "metadata": {},
   "source": [
    "Now we have processed our data in a way that it can be used to calculate entitlements for a claimant. Again, here we take into assumption that the person is earning no wage, there is no benefit cap and all benefits are calculated through a linear process. We have also taken only one section of welfare benefits into consideration."
   ]
  },
  {
   "cell_type": "markdown",
   "metadata": {},
   "source": [
    "We will take into account the same scenario as before, a person over 25 who is single with 2 children who has a disability that entitles them to a lower bracket of disability allowance. This puts them into brackets [10],2*[11],[17]"
   ]
  },
  {
   "cell_type": "code",
   "execution_count": 1174,
   "metadata": {},
   "outputs": [
    {
     "name": "stdout",
     "output_type": "stream",
     "text": [
      "This person is entitled to: £1036.32\n"
     ]
    }
   ],
   "source": [
    "Job_Seeker=np.dot([js_dfY],(js_vector[10]+js_vector[11]*2+js_vector[17]))\n",
    "print(\"This person is entitled to: £%.2f\" %Job_Seeker)"
   ]
  },
  {
   "cell_type": "code",
   "execution_count": 1175,
   "metadata": {},
   "outputs": [
    {
     "name": "stdout",
     "output_type": "stream",
     "text": [
      "This person is worse off under Universal Credit by £83.64 per month\n"
     ]
    }
   ],
   "source": [
    "if UC<Job_Seeker:\n",
    "    print(\"This person is worse off under Universal Credit by £%.2f per month\" %abs(UC-Job_Seeker))\n",
    "else:\n",
    "    print(\"This person is better off under Universal Credi by £%.2f per month\" %abs(UC-Jobs_Seeker))"
   ]
  },
  {
   "cell_type": "markdown",
   "metadata": {},
   "source": [
    "# The General Case"
   ]
  },
  {
   "cell_type": "markdown",
   "metadata": {},
   "source": [
    "As with all mathematics, we start with specific examples then create a formula to use for the general case, which I will create below using similar algorithms to the ones above but allowing for way to calculate any claimant."
   ]
  },
  {
   "cell_type": "markdown",
   "metadata": {},
   "source": [
    "For the Job Seeker Allowance case, enter in the row values of the claimant's attributes next to the letters given in the section below the chart, along with the number of children claimant has and the number of criteria the claimant has selected. Below are the row values to choose from. "
   ]
  },
  {
   "cell_type": "code",
   "execution_count": 1176,
   "metadata": {},
   "outputs": [
    {
     "data": {
      "text/html": [
       "<div>\n",
       "<style scoped>\n",
       "    .dataframe tbody tr th:only-of-type {\n",
       "        vertical-align: middle;\n",
       "    }\n",
       "\n",
       "    .dataframe tbody tr th {\n",
       "        vertical-align: top;\n",
       "    }\n",
       "\n",
       "    .dataframe thead th {\n",
       "        text-align: right;\n",
       "    }\n",
       "</style>\n",
       "<table border=\"1\" class=\"dataframe\">\n",
       "  <thead>\n",
       "    <tr style=\"text-align: right;\">\n",
       "      <th></th>\n",
       "      <th>Attribute</th>\n",
       "      <th>Char</th>\n",
       "    </tr>\n",
       "  </thead>\n",
       "  <tbody>\n",
       "    <tr>\n",
       "      <th>0</th>\n",
       "      <td>Contribution Based</td>\n",
       "      <td>Person aged under 25</td>\n",
       "    </tr>\n",
       "    <tr>\n",
       "      <th>1</th>\n",
       "      <td>Contribution Based</td>\n",
       "      <td>Person aged under 25</td>\n",
       "    </tr>\n",
       "    <tr>\n",
       "      <th>2</th>\n",
       "      <td>Income Based Personal Allowance Single</td>\n",
       "      <td>Aged 16 to 24</td>\n",
       "    </tr>\n",
       "    <tr>\n",
       "      <th>3</th>\n",
       "      <td>Income Based Personal Allowance Single</td>\n",
       "      <td>Aged 25 or over</td>\n",
       "    </tr>\n",
       "    <tr>\n",
       "      <th>4</th>\n",
       "      <td>Couple</td>\n",
       "      <td>With both people aged 16 or 17</td>\n",
       "    </tr>\n",
       "    <tr>\n",
       "      <th>5</th>\n",
       "      <td>Couple</td>\n",
       "      <td>With both people aged 16 or 17, payable in cer...</td>\n",
       "    </tr>\n",
       "    <tr>\n",
       "      <th>6</th>\n",
       "      <td>Couple</td>\n",
       "      <td>With one person aged 16 or 17, and one person ...</td>\n",
       "    </tr>\n",
       "    <tr>\n",
       "      <th>7</th>\n",
       "      <td>Couple</td>\n",
       "      <td>With one person aged 16 or 17, and one person ...</td>\n",
       "    </tr>\n",
       "    <tr>\n",
       "      <th>8</th>\n",
       "      <td>Couple</td>\n",
       "      <td>With both people aged 18 or over</td>\n",
       "    </tr>\n",
       "    <tr>\n",
       "      <th>9</th>\n",
       "      <td>Lone Parent</td>\n",
       "      <td>Aged under 18</td>\n",
       "    </tr>\n",
       "    <tr>\n",
       "      <th>10</th>\n",
       "      <td>Lone Parent</td>\n",
       "      <td>Aged 18 or over</td>\n",
       "    </tr>\n",
       "    <tr>\n",
       "      <th>11</th>\n",
       "      <td>Lone Parent</td>\n",
       "      <td>Dependent children</td>\n",
       "    </tr>\n",
       "    <tr>\n",
       "      <th>12</th>\n",
       "      <td>Premiums</td>\n",
       "      <td>Single</td>\n",
       "    </tr>\n",
       "    <tr>\n",
       "      <th>13</th>\n",
       "      <td>Premiums</td>\n",
       "      <td>Couple (where one person qualifies)</td>\n",
       "    </tr>\n",
       "    <tr>\n",
       "      <th>14</th>\n",
       "      <td>Premiums</td>\n",
       "      <td>Couple (where both people qualify)</td>\n",
       "    </tr>\n",
       "    <tr>\n",
       "      <th>15</th>\n",
       "      <td>Pensioner Premium</td>\n",
       "      <td>Single person</td>\n",
       "    </tr>\n",
       "    <tr>\n",
       "      <th>16</th>\n",
       "      <td>Pensioner Premium</td>\n",
       "      <td>Couple</td>\n",
       "    </tr>\n",
       "    <tr>\n",
       "      <th>17</th>\n",
       "      <td>Disability premium</td>\n",
       "      <td>Single person</td>\n",
       "    </tr>\n",
       "    <tr>\n",
       "      <th>18</th>\n",
       "      <td>Disability premium</td>\n",
       "      <td>Couple</td>\n",
       "    </tr>\n",
       "    <tr>\n",
       "      <th>19</th>\n",
       "      <td>Enhanced Disability premium</td>\n",
       "      <td>Single person</td>\n",
       "    </tr>\n",
       "    <tr>\n",
       "      <th>20</th>\n",
       "      <td>Enhanced Disability premium</td>\n",
       "      <td>Couple</td>\n",
       "    </tr>\n",
       "    <tr>\n",
       "      <th>21</th>\n",
       "      <td>Enhanced Disability premium</td>\n",
       "      <td>Child</td>\n",
       "    </tr>\n",
       "  </tbody>\n",
       "</table>\n",
       "</div>"
      ],
      "text/plain": [
       "                                 Attribute  \\\n",
       "0                       Contribution Based   \n",
       "1                       Contribution Based   \n",
       "2   Income Based Personal Allowance Single   \n",
       "3   Income Based Personal Allowance Single   \n",
       "4                                   Couple   \n",
       "5                                   Couple   \n",
       "6                                   Couple   \n",
       "7                                   Couple   \n",
       "8                                   Couple   \n",
       "9                              Lone Parent   \n",
       "10                             Lone Parent   \n",
       "11                             Lone Parent   \n",
       "12                                Premiums   \n",
       "13                                Premiums   \n",
       "14                                Premiums   \n",
       "15                       Pensioner Premium   \n",
       "16                       Pensioner Premium   \n",
       "17                      Disability premium   \n",
       "18                      Disability premium   \n",
       "19             Enhanced Disability premium   \n",
       "20             Enhanced Disability premium   \n",
       "21             Enhanced Disability premium   \n",
       "\n",
       "                                                 Char  \n",
       "0                               Person aged under 25   \n",
       "1                               Person aged under 25   \n",
       "2                                      Aged 16 to 24   \n",
       "3                                    Aged 25 or over   \n",
       "4                     With both people aged 16 or 17   \n",
       "5   With both people aged 16 or 17, payable in cer...  \n",
       "6   With one person aged 16 or 17, and one person ...  \n",
       "7   With one person aged 16 or 17, and one person ...  \n",
       "8                   With both people aged 18 or over   \n",
       "9                                      Aged under 18   \n",
       "10                                   Aged 18 or over   \n",
       "11                                Dependent children   \n",
       "12                                            Single   \n",
       "13               Couple (where one person qualifies)   \n",
       "14                Couple (where both people qualify)   \n",
       "15                                     Single person   \n",
       "16                                            Couple   \n",
       "17                                     Single person   \n",
       "18                                            Couple   \n",
       "19                                     Single person   \n",
       "20                                            Couple   \n",
       "21                                             Child   "
      ]
     },
     "execution_count": 1176,
     "metadata": {},
     "output_type": "execute_result"
    }
   ],
   "source": [
    "js_df4[['Attribute','Char']]"
   ]
  },
  {
   "cell_type": "markdown",
   "metadata": {},
   "source": [
    "I will now look at the case where we have a single mother of 2 children who is over 25 looking for work."
   ]
  },
  {
   "cell_type": "code",
   "execution_count": 1177,
   "metadata": {},
   "outputs": [],
   "source": [
    "a=3\n",
    "b=10\n",
    "c=11\n",
    "d\n",
    "e\n",
    "Number_of_Children=2\n",
    "Number_of_crit=3"
   ]
  },
  {
   "cell_type": "markdown",
   "metadata": {},
   "source": [
    "Now we look at the Universal Credit Values from the table below and repeat the same process. "
   ]
  },
  {
   "cell_type": "code",
   "execution_count": 1178,
   "metadata": {},
   "outputs": [
    {
     "data": {
      "text/html": [
       "<div>\n",
       "<style scoped>\n",
       "    .dataframe tbody tr th:only-of-type {\n",
       "        vertical-align: middle;\n",
       "    }\n",
       "\n",
       "    .dataframe tbody tr th {\n",
       "        vertical-align: top;\n",
       "    }\n",
       "\n",
       "    .dataframe thead th {\n",
       "        text-align: right;\n",
       "    }\n",
       "</style>\n",
       "<table border=\"1\" class=\"dataframe\">\n",
       "  <thead>\n",
       "    <tr style=\"text-align: right;\">\n",
       "      <th></th>\n",
       "      <th>Element</th>\n",
       "      <th>Type</th>\n",
       "    </tr>\n",
       "  </thead>\n",
       "  <tbody>\n",
       "    <tr>\n",
       "      <th>0</th>\n",
       "      <td>Additional amount for disabled child or qualif...</td>\n",
       "      <td>Lower rate</td>\n",
       "    </tr>\n",
       "    <tr>\n",
       "      <th>1</th>\n",
       "      <td>Additional amount for disabled child or qualif...</td>\n",
       "      <td>Higher rate</td>\n",
       "    </tr>\n",
       "    <tr>\n",
       "      <th>2</th>\n",
       "      <td>Carer element</td>\n",
       "      <td>NaN</td>\n",
       "    </tr>\n",
       "    <tr>\n",
       "      <th>3</th>\n",
       "      <td>Child Element</td>\n",
       "      <td>1st child or qualifying young person (if born ...</td>\n",
       "    </tr>\n",
       "    <tr>\n",
       "      <th>4</th>\n",
       "      <td>Child Element</td>\n",
       "      <td>2nd &amp; subsequent child or qualifying young per...</td>\n",
       "    </tr>\n",
       "    <tr>\n",
       "      <th>5</th>\n",
       "      <td>Childcare costs element</td>\n",
       "      <td>Maximum amount of childcare costs for one chil...</td>\n",
       "    </tr>\n",
       "    <tr>\n",
       "      <th>6</th>\n",
       "      <td>Childcare costs element</td>\n",
       "      <td>Maximum amount for 2 or more children (UC pays...</td>\n",
       "    </tr>\n",
       "    <tr>\n",
       "      <th>7</th>\n",
       "      <td>Limited capability for work</td>\n",
       "      <td>(Only for claims started before 3 April 2017)</td>\n",
       "    </tr>\n",
       "    <tr>\n",
       "      <th>8</th>\n",
       "      <td>Limited capability for work &amp; work related act...</td>\n",
       "      <td>NaN</td>\n",
       "    </tr>\n",
       "    <tr>\n",
       "      <th>9</th>\n",
       "      <td>Standard Allowance</td>\n",
       "      <td>Single claimant under 25</td>\n",
       "    </tr>\n",
       "    <tr>\n",
       "      <th>10</th>\n",
       "      <td>Standard Allowance</td>\n",
       "      <td>Single claimant 25 and over</td>\n",
       "    </tr>\n",
       "    <tr>\n",
       "      <th>11</th>\n",
       "      <td>Standard Allowance</td>\n",
       "      <td>Joint claimants, both under 25</td>\n",
       "    </tr>\n",
       "    <tr>\n",
       "      <th>12</th>\n",
       "      <td>Standard Allowance</td>\n",
       "      <td>Joint claimants, either/both 25 and over</td>\n",
       "    </tr>\n",
       "  </tbody>\n",
       "</table>\n",
       "</div>"
      ],
      "text/plain": [
       "                                              Element  \\\n",
       "0   Additional amount for disabled child or qualif...   \n",
       "1   Additional amount for disabled child or qualif...   \n",
       "2                                       Carer element   \n",
       "3                                       Child Element   \n",
       "4                                       Child Element   \n",
       "5                             Childcare costs element   \n",
       "6                             Childcare costs element   \n",
       "7                         Limited capability for work   \n",
       "8   Limited capability for work & work related act...   \n",
       "9                                  Standard Allowance   \n",
       "10                                 Standard Allowance   \n",
       "11                                 Standard Allowance   \n",
       "12                                 Standard Allowance   \n",
       "\n",
       "                                                 Type  \n",
       "0                                          Lower rate  \n",
       "1                                         Higher rate  \n",
       "2                                                 NaN  \n",
       "3   1st child or qualifying young person (if born ...  \n",
       "4   2nd & subsequent child or qualifying young per...  \n",
       "5   Maximum amount of childcare costs for one chil...  \n",
       "6   Maximum amount for 2 or more children (UC pays...  \n",
       "7       (Only for claims started before 3 April 2017)  \n",
       "8                                                 NaN  \n",
       "9                            Single claimant under 25  \n",
       "10                        Single claimant 25 and over  \n",
       "11                     Joint claimants, both under 25  \n",
       "12           Joint claimants, either/both 25 and over  "
      ]
     },
     "execution_count": 1178,
     "metadata": {},
     "output_type": "execute_result"
    }
   ],
   "source": [
    "uc_df_simple_sortedX.columns=('Element','Type')\n",
    "uc_df_simple_sortedX"
   ]
  },
  {
   "cell_type": "code",
   "execution_count": 1179,
   "metadata": {},
   "outputs": [],
   "source": [
    "A=9\n",
    "B=3\n",
    "C=4\n",
    "D\n",
    "E\n",
    "F\n",
    "Number_of_Children=2\n",
    "\n",
    "number_of_crit=3"
   ]
  },
  {
   "cell_type": "markdown",
   "metadata": {},
   "source": [
    "Now we create the general case algorithm to determine whether or not this person will be better or worse off."
   ]
  },
  {
   "cell_type": "code",
   "execution_count": 1180,
   "metadata": {},
   "outputs": [],
   "source": [
    "uc_vector[4]*=(Number_of_Children-1)"
   ]
  },
  {
   "cell_type": "code",
   "execution_count": 1181,
   "metadata": {},
   "outputs": [],
   "source": [
    "uccriteria=[uc_vector[A],uc_vector[B],uc_vector[C],uc_vector[D],uc_vector[E],uc_vector[F]]\n",
    "VectorUC=sum(uccriteria[0:number_of_crit+1])"
   ]
  },
  {
   "cell_type": "code",
   "execution_count": 1182,
   "metadata": {},
   "outputs": [],
   "source": [
    "js_vector[11]*=Number_of_Children"
   ]
  },
  {
   "cell_type": "code",
   "execution_count": 1183,
   "metadata": {},
   "outputs": [],
   "source": [
    "jscriteria=[js_vector[a],js_vector[b],js_vector[c],js_vector[d],js_vector[e]]\n",
    "VectorJS=sum(jscriteria[0:Number_of_crit+1])"
   ]
  },
  {
   "cell_type": "code",
   "execution_count": 1184,
   "metadata": {},
   "outputs": [],
   "source": [
    "Job_Seeker_Value=np.dot(js_dfY,VectorJS)\n",
    "Universal_Credit_Value=np.dot(uc_amounts_t,VectorUC)\n",
    "Difference=abs(Job_Seeker_Value-Universal_Credit_Value)"
   ]
  },
  {
   "cell_type": "code",
   "execution_count": 1185,
   "metadata": {},
   "outputs": [
    {
     "name": "stdout",
     "output_type": "stream",
     "text": [
      "This person is better off under Universal Credit by: £404.33 per month\n"
     ]
    }
   ],
   "source": [
    "if Job_Seeker_Value>Universal_Credit_Value:\n",
    "    print('This person is worse off under Universal Credit by: £%.2f per month' %Difference )\n",
    "else:\n",
    "    print('This person is better off under Universal Credit by: £%.2f per month' %Difference)"
   ]
  },
  {
   "cell_type": "markdown",
   "metadata": {},
   "source": [
    "# Extensions"
   ]
  },
  {
   "cell_type": "markdown",
   "metadata": {},
   "source": [
    "We have taken under assumption that this person has no capital and works 0 hours a week, along with a few other assumptions which we will not address in this project. Here we will look into the case when the claimant may have capital and/or a job. We will assume that the claimant does not have a full time job and that job seekers allowance is not immediately removed one a part time job has been found, and that the entitlement value reduces at the same rate as other welfare payments, which is pound for pound. \n",
    "\n",
    "Under universal credit, the first £6000 of capital has no deductions but between £6000-£16000 UC will be reduced by £4.35 per any part of £250 of capital. After £16000 the claimant is no longer entitled to Universal Credit.\n",
    "\n",
    "There is a constant taper rate under Universal Credit which is 63%. Below we will extend our model by including these two factors, we will enter in these details of the claimant in the box below. "
   ]
  },
  {
   "cell_type": "code",
   "execution_count": 1186,
   "metadata": {},
   "outputs": [],
   "source": [
    "#for example\n",
    "capital=7100\n",
    "wage=10\n",
    "number_of_hours=17"
   ]
  },
  {
   "cell_type": "code",
   "execution_count": 1187,
   "metadata": {},
   "outputs": [],
   "source": [
    "capital_deduction=np.ceil((Capital-6000)/250)*4.35\n",
    "wage_deduction=wage*number_of_hours*0.63"
   ]
  },
  {
   "cell_type": "code",
   "execution_count": 1188,
   "metadata": {},
   "outputs": [],
   "source": [
    "if capital<16000:\n",
    "    deducted_uc=Universal_Credit_Value-wage_deduction-capital_deduction\n",
    "else:\n",
    "    deducted_uc=0"
   ]
  },
  {
   "cell_type": "markdown",
   "metadata": {},
   "source": [
    "Under the old welfare system the welfare is reduce pound for pound of earnings. At 16 hours the Working Tax Credit sets in, with the value depending on your circumstances and at 30 hours a second amount of Working Tax Credit sets in. "
   ]
  },
  {
   "cell_type": "code",
   "execution_count": 1189,
   "metadata": {},
   "outputs": [
    {
     "data": {
      "text/html": [
       "<div>\n",
       "<style scoped>\n",
       "    .dataframe tbody tr th:only-of-type {\n",
       "        vertical-align: middle;\n",
       "    }\n",
       "\n",
       "    .dataframe tbody tr th {\n",
       "        vertical-align: top;\n",
       "    }\n",
       "\n",
       "    .dataframe thead th {\n",
       "        text-align: right;\n",
       "    }\n",
       "</style>\n",
       "<table border=\"1\" class=\"dataframe\">\n",
       "  <thead>\n",
       "    <tr style=\"text-align: right;\">\n",
       "      <th></th>\n",
       "      <th>Basic element (1 per single person or couple) 1,960</th>\n",
       "    </tr>\n",
       "  </thead>\n",
       "  <tbody>\n",
       "    <tr>\n",
       "      <th>0</th>\n",
       "      <td>Couple element# (paid in addition to basic ele...</td>\n",
       "    </tr>\n",
       "    <tr>\n",
       "      <th>1</th>\n",
       "      <td>Lone parent element (paid in addition to basic...</td>\n",
       "    </tr>\n",
       "    <tr>\n",
       "      <th>2</th>\n",
       "      <td>30-hour element** (paid in addition to other e...</td>\n",
       "    </tr>\n",
       "    <tr>\n",
       "      <th>3</th>\n",
       "      <td>Disability element* (paid in addition to other...</td>\n",
       "    </tr>\n",
       "    <tr>\n",
       "      <th>4</th>\n",
       "      <td>Severe disability element* (paid in addition t...</td>\n",
       "    </tr>\n",
       "  </tbody>\n",
       "</table>\n",
       "</div>"
      ],
      "text/plain": [
       "  Basic element (1 per single person or couple) 1,960\n",
       "0  Couple element# (paid in addition to basic ele... \n",
       "1  Lone parent element (paid in addition to basic... \n",
       "2  30-hour element** (paid in addition to other e... \n",
       "3  Disability element* (paid in addition to other... \n",
       "4  Severe disability element* (paid in addition t... "
      ]
     },
     "execution_count": 1189,
     "metadata": {},
     "output_type": "execute_result"
    }
   ],
   "source": [
    "wtc=pd.read_csv(\"working tax credits.csv\")\n",
    "wtc.head(5)"
   ]
  },
  {
   "cell_type": "code",
   "execution_count": 1190,
   "metadata": {},
   "outputs": [],
   "source": [
    "wtc=wtc.append({'Basic element (1 per single person or couple) 1,960':'Basic element (1 per single person or couple) 1,960'},ignore_index=True)\n",
    "wtc2=wtc.drop(wtc.index[7]).reset_index()"
   ]
  },
  {
   "cell_type": "code",
   "execution_count": 1191,
   "metadata": {},
   "outputs": [],
   "source": [
    "wtc2.columns=['index','Element Type']\n",
    "wtc2.drop('index',1,inplace=True)"
   ]
  },
  {
   "cell_type": "code",
   "execution_count": 1192,
   "metadata": {},
   "outputs": [],
   "source": [
    "wtc3=wtc2[\"Element Type\"].str.replace(\"£\",\")\").str.split(\")\",expand=True)\n",
    "wtc3.columns=[\"Elements\",\"Amounts\"]\n",
    "wtc3['Amounts']=wtc3['Amounts'].str.replace(\",\",\"\").str.replace(\" a week\",\"\")"
   ]
  },
  {
   "cell_type": "code",
   "execution_count": 1200,
   "metadata": {},
   "outputs": [
    {
     "data": {
      "text/html": [
       "<div>\n",
       "<style scoped>\n",
       "    .dataframe tbody tr th:only-of-type {\n",
       "        vertical-align: middle;\n",
       "    }\n",
       "\n",
       "    .dataframe tbody tr th {\n",
       "        vertical-align: top;\n",
       "    }\n",
       "\n",
       "    .dataframe thead th {\n",
       "        text-align: right;\n",
       "    }\n",
       "</style>\n",
       "<table border=\"1\" class=\"dataframe\">\n",
       "  <thead>\n",
       "    <tr style=\"text-align: right;\">\n",
       "      <th></th>\n",
       "      <th>Elements</th>\n",
       "      <th>Amounts</th>\n",
       "    </tr>\n",
       "  </thead>\n",
       "  <tbody>\n",
       "    <tr>\n",
       "      <th>0</th>\n",
       "      <td>Couple element# (paid in addition to basic ele...</td>\n",
       "      <td>2010</td>\n",
       "    </tr>\n",
       "    <tr>\n",
       "      <th>1</th>\n",
       "      <td>Lone parent element (paid in addition to basic...</td>\n",
       "      <td>2010</td>\n",
       "    </tr>\n",
       "    <tr>\n",
       "      <th>2</th>\n",
       "      <td>30-hour element** (paid in addition to other e...</td>\n",
       "      <td>810</td>\n",
       "    </tr>\n",
       "  </tbody>\n",
       "</table>\n",
       "</div>"
      ],
      "text/plain": [
       "                                            Elements Amounts\n",
       "0  Couple element# (paid in addition to basic ele...    2010\n",
       "1  Lone parent element (paid in addition to basic...    2010\n",
       "2  30-hour element** (paid in addition to other e...     810"
      ]
     },
     "execution_count": 1200,
     "metadata": {},
     "output_type": "execute_result"
    }
   ],
   "source": [
    "wtc3.head(3)"
   ]
  },
  {
   "cell_type": "code",
   "execution_count": 1193,
   "metadata": {},
   "outputs": [
    {
     "data": {
      "text/html": [
       "<div>\n",
       "<style scoped>\n",
       "    .dataframe tbody tr th:only-of-type {\n",
       "        vertical-align: middle;\n",
       "    }\n",
       "\n",
       "    .dataframe tbody tr th {\n",
       "        vertical-align: top;\n",
       "    }\n",
       "\n",
       "    .dataframe thead th {\n",
       "        text-align: right;\n",
       "    }\n",
       "</style>\n",
       "<table border=\"1\" class=\"dataframe\">\n",
       "  <thead>\n",
       "    <tr style=\"text-align: right;\">\n",
       "      <th></th>\n",
       "      <th>Elements</th>\n",
       "    </tr>\n",
       "  </thead>\n",
       "  <tbody>\n",
       "    <tr>\n",
       "      <th>0</th>\n",
       "      <td>Couple element# (paid in addition to basic ele...</td>\n",
       "    </tr>\n",
       "    <tr>\n",
       "      <th>1</th>\n",
       "      <td>Lone parent element (paid in addition to basic...</td>\n",
       "    </tr>\n",
       "    <tr>\n",
       "      <th>2</th>\n",
       "      <td>30-hour element** (paid in addition to other e...</td>\n",
       "    </tr>\n",
       "    <tr>\n",
       "      <th>3</th>\n",
       "      <td>Disability element* (paid in addition to other...</td>\n",
       "    </tr>\n",
       "    <tr>\n",
       "      <th>4</th>\n",
       "      <td>Severe disability element* (paid in addition t...</td>\n",
       "    </tr>\n",
       "    <tr>\n",
       "      <th>5</th>\n",
       "      <td>Childcare element, maximum eligible cost for f...</td>\n",
       "    </tr>\n",
       "    <tr>\n",
       "      <th>6</th>\n",
       "      <td>Childcare element, maximum eligible cost for f...</td>\n",
       "    </tr>\n",
       "    <tr>\n",
       "      <th>7</th>\n",
       "      <td>Basic element (1 per single person or couple</td>\n",
       "    </tr>\n",
       "  </tbody>\n",
       "</table>\n",
       "</div>"
      ],
      "text/plain": [
       "                                            Elements\n",
       "0  Couple element# (paid in addition to basic ele...\n",
       "1  Lone parent element (paid in addition to basic...\n",
       "2  30-hour element** (paid in addition to other e...\n",
       "3  Disability element* (paid in addition to other...\n",
       "4  Severe disability element* (paid in addition t...\n",
       "5  Childcare element, maximum eligible cost for f...\n",
       "6  Childcare element, maximum eligible cost for f...\n",
       "7       Basic element (1 per single person or couple"
      ]
     },
     "execution_count": 1193,
     "metadata": {},
     "output_type": "execute_result"
    }
   ],
   "source": [
    "Amounts_per_month=np.array(wtc3['Amounts']).astype(int)*(1,1,1,1,1,52,52,1)*(1/12)\n",
    "Amounts_vector=np.identity(8)\n",
    "wtc3[['Elements']]"
   ]
  },
  {
   "cell_type": "markdown",
   "metadata": {},
   "source": [
    "Now we follow the same process as the general case where below you can enter the row number associated to your criteria and calculate the value of working tax credits you would be owed once you start working 16 hours per week."
   ]
  },
  {
   "cell_type": "code",
   "execution_count": 1194,
   "metadata": {},
   "outputs": [],
   "source": [
    "f=1\n",
    "g=2\n",
    "h=3\n",
    "num_criteria=3"
   ]
  },
  {
   "cell_type": "code",
   "execution_count": 1195,
   "metadata": {},
   "outputs": [],
   "source": [
    "wtccriteria=(Amounts_vector[f],Amounts_vector[g],Amounts_vector[h])\n",
    "vectorwtc=sum(wtccriteria[0:num_criteria+1])\n",
    "wtcvalue=np.dot(vectorwtc,Amounts_per_month)\n",
    "thirtyhourvalue=np.dot(Amounts_vector[3],Amounts_per_month)"
   ]
  },
  {
   "cell_type": "code",
   "execution_count": 1196,
   "metadata": {},
   "outputs": [],
   "source": [
    "if number_of_hours <16:\n",
    "    deductedjs=Job_Seeker_Value-(number_of_hours*wage)\n",
    "elif 16<=number_of_hours<30:\n",
    "    deductedjs=Job_Seeker_Value-(number_of_hours*wage)+wtcvalue\n",
    "else:\n",
    "    deductedjs=Job_Seeker_Value-(number_of_hours*wage)+wtcvalue+np.dot(Amounts_vector[3]*wtcvalue)"
   ]
  },
  {
   "cell_type": "code",
   "execution_count": 1197,
   "metadata": {},
   "outputs": [],
   "source": [
    "difference=abs(deductedjs-deducted_uc)"
   ]
  },
  {
   "cell_type": "code",
   "execution_count": 1198,
   "metadata": {},
   "outputs": [
    {
     "name": "stdout",
     "output_type": "stream",
     "text": [
      "This person is worse off under Universal Credit by: £37.02 per month\n"
     ]
    }
   ],
   "source": [
    "if deductedjs>deducted_uc:\n",
    "    print('This person is worse off under Universal Credit by: £%.2f per month' %difference )\n",
    "else:\n",
    "    print('This person is better off under Universal Credit by: £%.2f per month' %difference)"
   ]
  },
  {
   "cell_type": "markdown",
   "metadata": {},
   "source": [
    "# Visualization "
   ]
  },
  {
   "cell_type": "markdown",
   "metadata": {},
   "source": [
    "Here we will look at how Universal Credit and Job Seekers Allowance changes as number of hours at work changes. (Again we are assuming that we do not lose JSA once part time work is found and that it operates the same way as all other welfare type) \n"
   ]
  },
  {
   "cell_type": "code",
   "execution_count": 1199,
   "metadata": {},
   "outputs": [
    {
     "data": {
      "image/png": "[encoded data removed]",
      "text/plain": [
       "<Figure size 720x432 with 1 Axes>"
      ]
     },
     "metadata": {
      "needs_background": "light"
     },
     "output_type": "display_data"
    }
   ],
   "source": [
    "import matplotlib.pyplot as plt\n",
    "fig=plt.figure(figsize=(10,6))\n",
    "plt.xlim(0,60)\n",
    "plt.ylim(0,2500)\n",
    "plt.title('Comparison Between Job Seekers Benefits and Universal Credit',fontsize='14')\n",
    "plt.xlabel('Number of Hours Worked Each Week')\n",
    "plt.ylabel('Monthly Entitlement')\n",
    "x=np.arange(0,90)\n",
    "y=Universal_Credit_Value-0.63*wage*x\n",
    "def f(x):\n",
    "    if x<16:\n",
    "        return Job_Seeker_Value-wage*x;\n",
    "    elif 16<=x<30:\n",
    "        return Job_Seeker_Value+wtcvalue-wage*x;\n",
    "    else:\n",
    "        return Job_Seeker_Value+thirtyhourvalue-wage*x+wtcvalue\n",
    "\n",
    "plt.plot(x,list(map(f,x)),color='r',linewidth=2,label='Job Seekers Entitlement')\n",
    "plt.plot(x,y,color='b',linewidth=2,label='Universal Credit Entitlement')\n",
    "plt.legend()\n",
    "plt.show()"
   ]
  },
  {
   "cell_type": "markdown",
   "metadata": {},
   "source": [
    "# Conclusion and Further Investigation"
   ]
  },
  {
   "cell_type": "markdown",
   "metadata": {},
   "source": [
    "We can see from the graph above the points at which this specific claimant is be better or worse off under Universal Credit. We can also use to the code above to find out specifically how much a claimant will be entitled to and what the difference will be when they switch to Universal Credit and hence reducing the uncertainty around entitlement changes under Universal Credit, one of its many criticisms. "
   ]
  },
  {
   "cell_type": "markdown",
   "metadata": {},
   "source": [
    "We see however that this report does not give a perfect account for claimants as we have only considered one aspect of the old welfare system, when multiple claims are often made for different types of welfare entitlements for example income support, disability support, child support etc. In order to make this a much more accurate portrayal we would need to include all these different claims instead of focusing soley on Job Seekers Allowance. We would then need to find caps that are in place when multiple applications are in place. We also removed the housing element of Universal Credit, which would need to be added in to make the comparison fair as well as including the Universal Credit caps. \n",
    "\n",
    "To extend further we would need to look at taxation rates amongst those who are earning an income and how that affects their Universal Credit or welfare allowance. We would also want to look at how each of the different welfare types are reduced as the claimant enters into work and increases their hours, as it is most generally a pound for pound reduction but there are some circumstances where this isn't the case, and thus would need to be explored. \n",
    "\n"
   ]
  },
  {
   "cell_type": "markdown",
   "metadata": {},
   "source": [
    "# Work Cited"
   ]
  },
  {
   "cell_type": "markdown",
   "metadata": {},
   "source": [
    "“A Guide to Child Tax Credit and Working Tax Credit.” Revenue Benefits , DWP, Apr. 2015, revenuebenefits.org.uk/pdf/WTC2-2015.pdf\n",
    "\n",
    "“Benefit and Pension Rates.” DWP, 15 Jan. 2015, assets.publishing.service.gov.uk/government/uploads/system/uploads/attachment_data/file/457239/DWP11-benefit-and-pension-rates-april-2015-280815.pdf\n"
   ]
  },
  {
   "cell_type": "code",
   "execution_count": null,
   "metadata": {},
   "outputs": [],
   "source": []
  }
 ],
 "metadata": {
  "kernelspec": {
   "display_name": "Python 3",
   "language": "python",
   "name": "python3"
  },
  "language_info": {
   "codemirror_mode": {
    "name": "ipython",
    "version": 3
   },
   "file_extension": ".py",
   "mimetype": "text/x-python",
   "name": "python",
   "nbconvert_exporter": "python",
   "pygments_lexer": "ipython3",
   "version": "3.7.1"
  }
 },
 "nbformat": 4,
 "nbformat_minor": 2
}
